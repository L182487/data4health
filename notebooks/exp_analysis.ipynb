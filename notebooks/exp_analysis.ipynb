{
 "cells": [
  {
   "cell_type": "markdown",
   "metadata": {},
   "source": [
    "### Filtragem inicial dos dados sobre Leishmaniose Visceral\n",
    "\n",
    "##### Fonte: LEISHMANIOSE VISCERAL - Casos confirmados Notificados no Sistema de Informação de Agravos de Notificação - Brasil - ( 2015~2019)\n",
    "\n",
    "###### http://tabnet.datasus.gov.br/cgi/deftohtm.exe?sinannet/cnv/leishvbr.def"
   ]
  },
  {
   "cell_type": "code",
   "execution_count": 134,
   "metadata": {},
   "outputs": [],
   "source": [
    "#Análise exploratória inicial sobre Leismaniose Visceral\n",
    "\n",
    "import pandas as pd\n",
    "import matplotlib.pyplot as plt\n",
    "import seaborn as sns"
   ]
  },
  {
   "cell_type": "markdown",
   "metadata": {},
   "source": [
    "#### Concatenando os dataframes de faixa etária com os de sexo ( ambos segmentados por região e ano)"
   ]
  },
  {
   "cell_type": "code",
   "execution_count": 135,
   "metadata": {},
   "outputs": [],
   "source": [
    "frames=[]\n",
    "\n",
    "#J vai iterar de 5 a 9 representando os anos de 2015 a 2019 onde será concatenado as ocorrências por sexo nas regiões\n",
    "for j in range(5,10):\n",
    "\n",
    "    df = pd.read_csv(\"regiao_faixa_201\"+str(j)+\".csv\",sep=';',encoding='utf-8')\n",
    "\n",
    "    df2 = pd.read_csv(\"regiao_sexo_201\"+str(j)+\".csv\",sep=';',encoding='utf-8')\n",
    "\n",
    "    #I vai iterar em cada linha das regiões no csv categorizado por sexo e vai adicionar uma nova coluna no dataframe\n",
    "    values = df2.index.values\n",
    "    for i in values:\n",
    "        df.loc[i,'Masculino'] = df2.at[i,'Masculino']\n",
    "        df.loc[i,'Feminino'] = df2.at[i,'Feminino']\n",
    "        \n",
    "    frames.append(df)\n",
    "\n"
   ]
  },
  {
   "cell_type": "code",
   "execution_count": 136,
   "metadata": {},
   "outputs": [
    {
     "data": {
      "text/html": [
       "<div>\n",
       "<style scoped>\n",
       "    .dataframe tbody tr th:only-of-type {\n",
       "        vertical-align: middle;\n",
       "    }\n",
       "\n",
       "    .dataframe tbody tr th {\n",
       "        vertical-align: top;\n",
       "    }\n",
       "\n",
       "    .dataframe thead th {\n",
       "        text-align: right;\n",
       "    }\n",
       "</style>\n",
       "<table border=\"1\" class=\"dataframe\">\n",
       "  <thead>\n",
       "    <tr style=\"text-align: right;\">\n",
       "      <th></th>\n",
       "      <th>UF de residência</th>\n",
       "      <th>&lt;1 Ano</th>\n",
       "      <th>1-4</th>\n",
       "      <th>5-9</th>\n",
       "      <th>10-14</th>\n",
       "      <th>15-19</th>\n",
       "      <th>20-39</th>\n",
       "      <th>40-59</th>\n",
       "      <th>60-64</th>\n",
       "      <th>65-69</th>\n",
       "      <th>70-79</th>\n",
       "      <th>80 e +</th>\n",
       "      <th>Total</th>\n",
       "      <th>Ano</th>\n",
       "      <th>Masculino</th>\n",
       "      <th>Feminino</th>\n",
       "    </tr>\n",
       "  </thead>\n",
       "  <tbody>\n",
       "    <tr>\n",
       "      <th>0</th>\n",
       "      <td>Roraima</td>\n",
       "      <td>3</td>\n",
       "      <td>11</td>\n",
       "      <td>4</td>\n",
       "      <td>0</td>\n",
       "      <td>1</td>\n",
       "      <td>2</td>\n",
       "      <td>0</td>\n",
       "      <td>0</td>\n",
       "      <td>0</td>\n",
       "      <td>0</td>\n",
       "      <td>0</td>\n",
       "      <td>21</td>\n",
       "      <td>2015</td>\n",
       "      <td>8.0</td>\n",
       "      <td>13.0</td>\n",
       "    </tr>\n",
       "    <tr>\n",
       "      <th>1</th>\n",
       "      <td>Pará</td>\n",
       "      <td>19</td>\n",
       "      <td>77</td>\n",
       "      <td>33</td>\n",
       "      <td>18</td>\n",
       "      <td>25</td>\n",
       "      <td>63</td>\n",
       "      <td>38</td>\n",
       "      <td>3</td>\n",
       "      <td>4</td>\n",
       "      <td>5</td>\n",
       "      <td>1</td>\n",
       "      <td>286</td>\n",
       "      <td>2015</td>\n",
       "      <td>154.0</td>\n",
       "      <td>115.0</td>\n",
       "    </tr>\n",
       "    <tr>\n",
       "      <th>2</th>\n",
       "      <td>Tocantins</td>\n",
       "      <td>21</td>\n",
       "      <td>61</td>\n",
       "      <td>13</td>\n",
       "      <td>9</td>\n",
       "      <td>8</td>\n",
       "      <td>50</td>\n",
       "      <td>28</td>\n",
       "      <td>3</td>\n",
       "      <td>0</td>\n",
       "      <td>4</td>\n",
       "      <td>1</td>\n",
       "      <td>198</td>\n",
       "      <td>2015</td>\n",
       "      <td>141.0</td>\n",
       "      <td>75.0</td>\n",
       "    </tr>\n",
       "    <tr>\n",
       "      <th>3</th>\n",
       "      <td>Maranhão</td>\n",
       "      <td>80</td>\n",
       "      <td>180</td>\n",
       "      <td>43</td>\n",
       "      <td>19</td>\n",
       "      <td>23</td>\n",
       "      <td>139</td>\n",
       "      <td>84</td>\n",
       "      <td>11</td>\n",
       "      <td>11</td>\n",
       "      <td>8</td>\n",
       "      <td>3</td>\n",
       "      <td>601</td>\n",
       "      <td>2015</td>\n",
       "      <td>327.0</td>\n",
       "      <td>192.0</td>\n",
       "    </tr>\n",
       "    <tr>\n",
       "      <th>4</th>\n",
       "      <td>Piauí</td>\n",
       "      <td>24</td>\n",
       "      <td>53</td>\n",
       "      <td>15</td>\n",
       "      <td>8</td>\n",
       "      <td>8</td>\n",
       "      <td>64</td>\n",
       "      <td>48</td>\n",
       "      <td>9</td>\n",
       "      <td>3</td>\n",
       "      <td>5</td>\n",
       "      <td>2</td>\n",
       "      <td>239</td>\n",
       "      <td>2015</td>\n",
       "      <td>209.0</td>\n",
       "      <td>108.0</td>\n",
       "    </tr>\n",
       "  </tbody>\n",
       "</table>\n",
       "</div>"
      ],
      "text/plain": [
       "  UF de residência  <1 Ano  1-4  5-9  10-14  15-19  20-39  40-59  60-64  \\\n",
       "0          Roraima       3   11    4      0      1      2      0      0   \n",
       "1             Pará      19   77   33     18     25     63     38      3   \n",
       "2        Tocantins      21   61   13      9      8     50     28      3   \n",
       "3         Maranhão      80  180   43     19     23    139     84     11   \n",
       "4            Piauí      24   53   15      8      8     64     48      9   \n",
       "\n",
       "   65-69  70-79  80 e +  Total   Ano  Masculino  Feminino  \n",
       "0      0      0       0     21  2015        8.0      13.0  \n",
       "1      4      5       1    286  2015      154.0     115.0  \n",
       "2      0      4       1    198  2015      141.0      75.0  \n",
       "3     11      8       3    601  2015      327.0     192.0  \n",
       "4      3      5       2    239  2015      209.0     108.0  "
      ]
     },
     "execution_count": 136,
     "metadata": {},
     "output_type": "execute_result"
    }
   ],
   "source": [
    "#Juntando todos os dataframes dos anos de 2015 a 2019 em um só\n",
    "\n",
    "df = pd.concat(frames)\n",
    "\n",
    "df.head()"
   ]
  },
  {
   "cell_type": "markdown",
   "metadata": {},
   "source": [
    "#### Matriz de correlação primáriamente relativa às faixas etárias dos casos incidentes de Leishmaniose Visceral"
   ]
  },
  {
   "cell_type": "code",
   "execution_count": 147,
   "metadata": {},
   "outputs": [
    {
     "data": {
      "image/png": "[encoded data removed]",
      "text/plain": [
       "<Figure size 432x288 with 2 Axes>"
      ]
     },
     "metadata": {
      "needs_background": "light"
     },
     "output_type": "display_data"
    }
   ],
   "source": [
    "#Plot da matriz de correlação dos dados de incidência de leishmaniose\n",
    "\n",
    "plot_grid = plt.GridSpec(1, 15, hspace=0.2, wspace=0.1) # Setup a 1x15 grid\n",
    "ax = plt.subplot(plot_grid[:,:-1])\n",
    "\n",
    "\n",
    "corrDf = df.drop('Ano',axis=1)\n",
    "\n",
    "corr = corrDf.corr()\n",
    "ax = sns.heatmap(\n",
    "    corr, \n",
    "    vmin=-1, vmax=1, center=0,\n",
    "    cmap=sns.diverging_palette(20, 220, n=200),\n",
    "    square=True\n",
    ")\n",
    "ax.set_xticklabels(\n",
    "    ax.get_xticklabels(),\n",
    "    rotation=45,\n",
    "    horizontalalignment='right'\n",
    ");"
   ]
  },
  {
   "cell_type": "code",
   "execution_count": 138,
   "metadata": {},
   "outputs": [
    {
     "data": {
      "image/png": "[encoded data removed]",
      "text/plain": [
       "<Figure size 432x288 with 2 Axes>"
      ]
     },
     "metadata": {
      "needs_background": "light"
     },
     "output_type": "display_data"
    }
   ],
   "source": [
    "# Nada muito relevante ...\n",
    "\n",
    "dfCopy = df.copy()\n",
    "\n",
    "dfCopy = dfCopy.drop(['<1 Ano','1-4','5-9','10-14','15-19','20-39','40-59','60-64','65-69','70-79','80 e +','Ano'],axis=1)\n",
    "\n",
    "corr = dfCopy.corr()\n",
    "ax = sns.heatmap(\n",
    "    corr, \n",
    "    vmin=-1, vmax=1, center=0,\n",
    "    cmap=sns.diverging_palette(20, 220, n=200),\n",
    "    square=True\n",
    ")\n",
    "ax.set_xticklabels(\n",
    "    ax.get_xticklabels(),\n",
    "    rotation=45,\n",
    "    horizontalalignment='right'\n",
    ");"
   ]
  },
  {
   "cell_type": "code",
   "execution_count": 139,
   "metadata": {},
   "outputs": [
    {
     "data": {
      "text/plain": [
       "<matplotlib.collections.PathCollection at 0x27eb00faf98>"
      ]
     },
     "execution_count": 139,
     "metadata": {},
     "output_type": "execute_result"
    },
    {
     "data": {
      "image/png": "[encoded data removed]",
      "text/plain": [
       "<Figure size 432x288 with 1 Axes>"
      ]
     },
     "metadata": {
      "needs_background": "light"
     },
     "output_type": "display_data"
    }
   ],
   "source": [
    "# É bom plotar outras categorias mas ainda estou em dúvida de quantas/quais são necessárias...\n",
    "plt.scatter(df['20-39'],df['10-14'])\n"
   ]
  },
  {
   "cell_type": "code",
   "execution_count": 140,
   "metadata": {},
   "outputs": [],
   "source": [
    "dfCopy = df.copy()\n",
    "dfCopy = dfCopy.drop(['UF de residência'],axis=1)\n"
   ]
  },
  {
   "cell_type": "markdown",
   "metadata": {},
   "source": [
    "### Análise dos componentes principais desses dados com PCA"
   ]
  },
  {
   "cell_type": "code",
   "execution_count": 141,
   "metadata": {},
   "outputs": [
    {
     "data": {
      "image/png": "[encoded data removed]",
      "text/plain": [
       "<Figure size 432x288 with 1 Axes>"
      ]
     },
     "metadata": {
      "needs_background": "light"
     },
     "output_type": "display_data"
    },
    {
     "name": "stdout",
     "output_type": "stream",
     "text": [
      "autovetor: 11.674536293605236 e autovalor: 11.773473041856127\n",
      "autovetor: 1.3664059499766181 e autovalor: 1.3779856614170976\n",
      "autovetor: 0.9925343871851878 e autovalor: 1.0009456955511642\n",
      "autovetor: 0.2873397655872294 e autovalor: 0.2897748483464441\n",
      "autovetor: 0.24455539315181885 e autovalor: 0.24662789648361383\n",
      "autovetor: 0.12948672158338168 e autovalor: 0.13058406668154546\n",
      "autovetor: 0.07785625373475791 e autovalor: 0.07851605249522173\n",
      "autovetor: 0.06382585114588449 e autovalor: 0.06436674818949387\n",
      "autovetor: 0.06253017172133847 e autovalor: 0.06306008843084182\n",
      "autovetor: 0.04599140571869711 e autovalor: 0.04638116339427916\n",
      "autovetor: 0.018481267421484832 e autovalor: 0.01863788833183667\n",
      "autovetor: 0.01699986366859387 e autovalor: 0.017143930309853506\n",
      "autovetor: 0.011364820195000944 e autovalor: 0.011461132230552363\n",
      "autovetor: 0.008091722361282336 e autovalor: 0.008160296279598356\n",
      "autovetor: 1.3294348783781328e-07 e autovalor: 1.340701277335244e-07\n"
     ]
    }
   ],
   "source": [
    "from sklearn.decomposition import PCA\n",
    "import numpy as np\n",
    "from sklearn.preprocessing import StandardScaler\n",
    "\n",
    "scaler = StandardScaler()\n",
    "scaler.fit(dfCopy)\n",
    "scaled_data = scaler.transform(dfCopy)\n",
    "\n",
    "pca = PCA()\n",
    "pca_data = pca.fit_transform(scaled_data)\n",
    "\n",
    "per_var = np.round(pca.explained_variance_ratio_*100,decimals=1)\n",
    "\n",
    "#plt.bar(x=range(1,len(per_var)+1),height=per_var,tick_label=dfcopy.columns)\n",
    "eigenvalues = pca.explained_variance_\n",
    "plt.plot(dfCopy.columns,eigenvalues,'ro-')\n",
    "\n",
    "plt.ylabel('Autovalores')\n",
    "plt.xlabel('Componente principal')\n",
    "plt.xticks(rotation=90)\n",
    "plt.title('Scree plot dos componentes principais (PCA)')\n",
    "plt.show()\n",
    "\n",
    "eigenvalues = pca.explained_variance_\n",
    "for eigenvalue, eigenvector in zip(eigenvalues, pca.components_):  \n",
    "    print(\"autovetor: {} e autovalor: {}\".format(np.dot(eigenvector.T, np.dot(dfCopy.corr(), eigenvector)),eigenvalue))"
   ]
  },
  {
   "cell_type": "markdown",
   "metadata": {},
   "source": [
    "### De acordo com a análise, o componente '<1 Ano' é o que mais influi na variância destes dados presentes"
   ]
  },
  {
   "cell_type": "code",
   "execution_count": 143,
   "metadata": {},
   "outputs": [
    {
     "data": {
      "image/png": "[encoded data removed]",
      "text/plain": [
       "<Figure size 432x288 with 1 Axes>"
      ]
     },
     "metadata": {
      "needs_background": "light"
     },
     "output_type": "display_data"
    }
   ],
   "source": [
    "pca_data = pca.fit_transform(scaled_data)\n",
    "\n",
    "per_var = np.round(pca.explained_variance_ratio_*100,decimals=1)\n",
    "labels = ['PC' + str(x) for x in range(1,len(per_var)+1)]\n",
    "\n",
    "plt.bar(x=range(1,len(per_var)+1),height=per_var,tick_label=labels)\n",
    "plt.ylabel('Percentual da variância')\n",
    "plt.xlabel('Componente principal')\n",
    "plt.xticks(rotation=90)\n",
    "plt.title('bar plot das variâncias')\n",
    "plt.show()"
   ]
  },
  {
   "cell_type": "markdown",
   "metadata": {},
   "source": [
    "###### ¿TODOS: ? Nível de educação? Gráficos de dispersão ? Estatísticas ambientais regionais ?"
   ]
  }
 ],
 "metadata": {
  "kernelspec": {
   "display_name": "Python 3",
   "language": "python",
   "name": "python3"
  },
  "language_info": {
   "codemirror_mode": {
    "name": "ipython",
    "version": 3
   },
   "file_extension": ".py",
   "mimetype": "text/x-python",
   "name": "python",
   "nbconvert_exporter": "python",
   "pygments_lexer": "ipython3",
   "version": "3.7.3"
  }
 },
 "nbformat": 4,
 "nbformat_minor": 2
}
